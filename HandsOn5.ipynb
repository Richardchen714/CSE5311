{
 "cells": [
  {
   "cell_type": "markdown",
   "metadata": {},
   "source": [
    "# Hands-On 5\n",
    "Implement a min heap data structure. For the parent and left/right functions use bit manipulation operators. In addition your heap should have the following functionality\n",
    "\n",
    "- The ability to initially build the heap (build_min_heap)\n",
    "- The ability to heapify\n",
    "- The ability to get and remove (\"pop\") the root node from the heap (and of course re-heapify everything)\n",
    "- The heap should be generic to the type of data (can store floats, int, custom datastructure)\n",
    "- Show example(s) of your heap working. Please demonstrate ALL the functionality you implemented.\n",
    "- Upload your source code to github along with your example(s)."
   ]
  },
  {
   "cell_type": "code",
   "execution_count": 2,
   "metadata": {},
   "outputs": [],
   "source": [
    "class MinHeap:\n",
    "    def __init__(self):\n",
    "        self.heap = []\n",
    "\n",
    "    def parent(self,index):\n",
    "        # Bit manipulation to get the parent index\n",
    "        return (index-1)>>1\n",
    "\n",
    "    def leftChild(self,index):\n",
    "        # Bit manipulation to get the left child index\n",
    "        return (index<<1)+1\n",
    "\n",
    "    def rightChild(self,index):\n",
    "        # Bit manipulation to get the right child index\n",
    "        return (index<<1)+2\n",
    "\n",
    "    def buildMinHeap(self,arr):\n",
    "        \"\"\"Builds the heap from an unsorted array.\"\"\"\n",
    "        self.heap = arr[:]\n",
    "        for i in range(self.parent(len(self.heap)-1),-1,-1):\n",
    "            self.heapify(i)\n",
    "\n",
    "    def heapify(self,index):\n",
    "        \"\"\"Ensures the min-heap property starting from the given index.\"\"\"\n",
    "        smallest=index\n",
    "        left=self.leftChild(index)\n",
    "        right=self.rightChild(index)\n",
    "\n",
    "        if left<len(self.heap) and self.heap[left]<self.heap[smallest]:\n",
    "            smallest=left\n",
    "        if right<len(self.heap) and self.heap[right]<self.heap[smallest]:\n",
    "            smallest=right\n",
    "\n",
    "        if smallest!=index:\n",
    "            self.heap[index], self.heap[smallest]=self.heap[smallest], self.heap[index]\n",
    "            self.heapify(smallest)\n",
    "\n",
    "    def insert(self,value):\n",
    "        \"\"\"Inserts a new value into the heap.\"\"\"\n",
    "        self.heap.append(value)\n",
    "        self.siftUp(len(self.heap)-1)\n",
    "\n",
    "    def siftUp(self,index):\n",
    "        \"\"\"Moves a node up the heap to restore heap property.\"\"\"\n",
    "        parent = self.parent(index)\n",
    "        while index>0 and self.heap[index]<self.heap[parent]:\n",
    "            self.heap[index], self.heap[parent]=self.heap[parent], self.heap[index]\n",
    "            index=parent\n",
    "            parent=self.parent(index)\n",
    "\n",
    "    def popMin(self):\n",
    "        \"\"\"Removes and returns the minimum element (root) from the heap.\"\"\"\n",
    "        if len(self.heap)==0:\n",
    "            return None\n",
    "        min_elem = self.heap[0]\n",
    "        self.heap[0] = self.heap.pop()  # Move last element to root\n",
    "        self.heapify(0)\n",
    "        return min_elem\n",
    "\n",
    "    def getMin(self):\n",
    "        \"\"\"Returns the minimum element (root) without removing it.\"\"\"\n",
    "        if len(self.heap)==0:\n",
    "            return None\n",
    "        return self.heap[0]\n",
    "\n",
    "    def __str__(self):\n",
    "        return str(self.heap)\n"
   ]
  },
  {
   "cell_type": "code",
   "execution_count": 4,
   "metadata": {},
   "outputs": [
    {
     "name": "stdout",
     "output_type": "stream",
     "text": [
      "Min Heap built from array: [1, 3, 2, 9, 4, 5]\n",
      "Heap after inserting 0: [0, 3, 1, 9, 4, 5, 2]\n",
      "Minimum element: 0\n",
      "Popped minimum element: 0\n",
      "Heap after popping minimum element: [1, 3, 2, 9, 4, 5]\n"
     ]
    }
   ],
   "source": [
    "heap = MinHeap()\n",
    "\n",
    "# Example array to build the heap\n",
    "arr = [3,9,2,1,4,5]\n",
    "\n",
    "# Build the heap from an unsorted array\n",
    "heap.buildMinHeap(arr)\n",
    "print(\"Min Heap built from array:\", heap)\n",
    "\n",
    "# Insert a new element\n",
    "heap.insert(0)\n",
    "print(\"Heap after inserting 0:\", heap)\n",
    "\n",
    "# Get the minimum element\n",
    "print(\"Minimum element:\", heap.getMin())\n",
    "\n",
    "# Pop the minimum element\n",
    "minElem=heap.popMin()\n",
    "print(\"Popped minimum element:\", minElem)\n",
    "print(\"Heap after popping minimum element:\", heap)"
   ]
  }
 ],
 "metadata": {
  "kernelspec": {
   "display_name": "py39t",
   "language": "python",
   "name": "python3"
  },
  "language_info": {
   "codemirror_mode": {
    "name": "ipython",
    "version": 3
   },
   "file_extension": ".py",
   "mimetype": "text/x-python",
   "name": "python",
   "nbconvert_exporter": "python",
   "pygments_lexer": "ipython3",
   "version": "3.9.10"
  }
 },
 "nbformat": 4,
 "nbformat_minor": 2
}
