{
 "cells": [
  {
   "cell_type": "markdown",
   "metadata": {},
   "source": [
    "# Hands-On 4\n",
    "## Problem 0\n",
    "The code for calculating Fibonacci Sequence"
   ]
  },
  {
   "cell_type": "code",
   "execution_count": 2,
   "metadata": {},
   "outputs": [
    {
     "name": "stdout",
     "output_type": "stream",
     "text": [
      "5\n"
     ]
    }
   ],
   "source": [
    "def fib(n):\n",
    "    if n==0: return 0\n",
    "    if n==1: return 1\n",
    "    return fib(n-1)+fib(n-2)\n",
    "\n",
    "print(fib(5))"
   ]
  },
  {
   "cell_type": "markdown",
   "metadata": {},
   "source": [
    "\n",
    "The recursive call stack for fib(5) without optimization is as follows:\n",
    "```\n",
    "fib(5)\n",
    "fib(4)\n",
    "fib(3)\n",
    "fib(2)\n",
    "fib(1) -> returns 1\n",
    "fib(0) -> returns 0\n",
    "fib(1) -> returns 1\n",
    "fib(2)\n",
    "fib(1) -> returns 1\n",
    "fib(0) -> returns 0\n",
    "fib(3)\n",
    "fib(2)\n",
    "fib(1) -> returns 1\n",
    "fib(0) -> returns 0\n",
    "fib(1) -> returns 1\n",
    "```"
   ]
  },
  {
   "cell_type": "markdown",
   "metadata": {},
   "source": [
    "## Problem 1"
   ]
  },
  {
   "cell_type": "code",
   "execution_count": 6,
   "metadata": {},
   "outputs": [
    {
     "name": "stdout",
     "output_type": "stream",
     "text": [
      "[0, 1, 2, 3, 4, 5, 6, 7, 8, 9, 10, 11]\n",
      "[1, 2, 3, 4, 7, 8, 9, 10, 11]\n"
     ]
    }
   ],
   "source": [
    "def merge(arr):\n",
    "    '''\n",
    "    Given K sorted arrays of size N each\n",
    "    The sorted array is compressed in one list arr,\n",
    "    for example, arr=[[1,3,5,7], [2,4,6,8], [0,9,10,11]]\n",
    "    '''\n",
    "    k=len(arr)\n",
    "    n=len(arr[0])\n",
    "    pointers=[0]*k\n",
    "    sortedArr=[]\n",
    "    for _ in range(k*n):\n",
    "        min_value=float('inf')\n",
    "        min_index=-1\n",
    "        for i in range(k):\n",
    "            if pointers[i]<n and arr[i][pointers[i]]<min_value:\n",
    "                min_value=arr[i][pointers[i]]\n",
    "                min_index=i\n",
    "        sortedArr.append(min_value)\n",
    "        pointers[min_index]+=1\n",
    "    return sortedArr\n",
    "\n",
    "arrays1 = [[1, 3, 5, 7], [2, 4, 6, 8], [0, 9, 10, 11]]\n",
    "arrays2 = [[1, 3, 7], [2, 4, 8], [9, 10, 11]]\n",
    "print(merge(arrays1))\n",
    "print(merge(arrays2))"
   ]
  },
  {
   "cell_type": "markdown",
   "metadata": {},
   "source": [
    "## Problem 2"
   ]
  },
  {
   "cell_type": "code",
   "execution_count": 4,
   "metadata": {},
   "outputs": [
    {
     "name": "stdout",
     "output_type": "stream",
     "text": [
      "[2]\n",
      "[1, 2, 3, 4, 5]\n"
     ]
    }
   ],
   "source": [
    "def removeDuplicate(arr):\n",
    "    result=[]\n",
    "    for i in arr:\n",
    "        if not i in result:\n",
    "            result.append(i)\n",
    "\n",
    "    return(result)\n",
    "\n",
    "print(removeDuplicate([2, 2, 2, 2, 2]))\n",
    "print(removeDuplicate([1, 2, 2, 3, 4, 4, 4, 5, 5]))"
   ]
  }
 ],
 "metadata": {
  "kernelspec": {
   "display_name": "py39t",
   "language": "python",
   "name": "python3"
  },
  "language_info": {
   "codemirror_mode": {
    "name": "ipython",
    "version": 3
   },
   "file_extension": ".py",
   "mimetype": "text/x-python",
   "name": "python",
   "nbconvert_exporter": "python",
   "pygments_lexer": "ipython3",
   "version": "3.9.10"
  }
 },
 "nbformat": 4,
 "nbformat_minor": 2
}
