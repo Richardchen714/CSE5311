{
 "cells": [
  {
   "cell_type": "markdown",
   "metadata": {},
   "source": [
    "# Hands-On 14\n",
    "Implement and test on examples from the book. Then upload your source code to GitHub. Do this for the following algorithms:\n",
    "\n",
    "1.  Dijkstra's algorithm\n",
    "\n",
    "2. Bellman-Ford algorithm\n",
    "\n",
    "3. Floyd-Warshall algorithm"
   ]
  },
  {
   "cell_type": "markdown",
   "metadata": {},
   "source": [
    "This is the example from the book (Fig. 24.2) For Dijkstra & Bellman-Ford, the source node is `s`\n",
    "\n",
    "![alt text](image.png)"
   ]
  },
  {
   "cell_type": "code",
   "execution_count": 1,
   "metadata": {},
   "outputs": [
    {
     "data": {
      "text/plain": [
       "{'s': 0, 't': 3, 'y': 5, 'x': 9, 'z': 11}"
      ]
     },
     "execution_count": 1,
     "metadata": {},
     "output_type": "execute_result"
    }
   ],
   "source": [
    "import heapq\n",
    "import math\n",
    "\n",
    "# Graph representation using adjacency list (node -> [(neighbor, weight), ...])\n",
    "graph = {\n",
    "    's': [('t', 3), ('y', 5)],\n",
    "    't': [('y', 2), ('x', 6)],\n",
    "    'y': [('t', 1), ('x', 4), ('z', 6)],\n",
    "    'x': [('z', 2)],\n",
    "    'z': [('s', 3), ('x', 7)]\n",
    "}\n",
    "\n",
    "# Dijkstra's Algorithm implementation\n",
    "def dijkstra(graph, start):\n",
    "    # Priority queue to store (distance, node) and dictionary for shortest paths\n",
    "    queue = [(0, start)]\n",
    "    distances = {node: math.inf for node in graph}\n",
    "    distances[start] = 0\n",
    "    visited = set()\n",
    "    \n",
    "    while queue:\n",
    "        current_distance, current_node = heapq.heappop(queue)\n",
    "        \n",
    "        if current_node in visited:\n",
    "            continue\n",
    "        visited.add(current_node)\n",
    "        \n",
    "        for neighbor, weight in graph[current_node]:\n",
    "            distance = current_distance + weight\n",
    "            \n",
    "            # Only consider this new path if it's better\n",
    "            if distance < distances[neighbor]:\n",
    "                distances[neighbor] = distance\n",
    "                heapq.heappush(queue, (distance, neighbor))\n",
    "                \n",
    "    return distances\n",
    "\n",
    "# Apply Dijkstra's Algorithm starting from node 's'\n",
    "dijkstra_result = dijkstra(graph, 's')\n",
    "dijkstra_result\n"
   ]
  },
  {
   "cell_type": "code",
   "execution_count": 2,
   "metadata": {},
   "outputs": [
    {
     "data": {
      "text/plain": [
       "{'s': 0, 't': 3, 'y': 5, 'x': 9, 'z': 11}"
      ]
     },
     "execution_count": 2,
     "metadata": {},
     "output_type": "execute_result"
    }
   ],
   "source": [
    "# Bellman-Ford Algorithm implementation\n",
    "def bellman_ford(graph, start):\n",
    "    # Initialize distances from start to all nodes as infinity, except the start node\n",
    "    distances = {node: math.inf for node in graph}\n",
    "    distances[start] = 0\n",
    "\n",
    "    # List all edges (for Bellman-Ford iteration)\n",
    "    edges = [(u, v, weight) for u in graph for v, weight in graph[u]]\n",
    "\n",
    "    # Relax edges up to |V| - 1 times (where |V| is the number of nodes)\n",
    "    for _ in range(len(graph) - 1):\n",
    "        for u, v, weight in edges:\n",
    "            if distances[u] + weight < distances[v]:\n",
    "                distances[v] = distances[u] + weight\n",
    "\n",
    "    # Check for negative weight cycles (not expected here)\n",
    "    for u, v, weight in edges:\n",
    "        if distances[u] + weight < distances[v]:\n",
    "            raise ValueError(\"Graph contains a negative weight cycle\")\n",
    "\n",
    "    return distances\n",
    "\n",
    "# Apply Bellman-Ford Algorithm starting from node 's'\n",
    "bellman_ford_result = bellman_ford(graph, 's')\n",
    "bellman_ford_result\n"
   ]
  },
  {
   "cell_type": "code",
   "execution_count": 3,
   "metadata": {},
   "outputs": [
    {
     "data": {
      "text/plain": [
       "{'s': {'s': 0, 't': 3, 'y': 5, 'x': 9, 'z': 11},\n",
       " 't': {'s': 11, 't': 0, 'y': 2, 'x': 6, 'z': 8},\n",
       " 'y': {'s': 9, 't': 1, 'y': 0, 'x': 4, 'z': 6},\n",
       " 'x': {'s': 5, 't': 8, 'y': 10, 'x': 0, 'z': 2},\n",
       " 'z': {'s': 3, 't': 6, 'y': 8, 'x': 7, 'z': 0}}"
      ]
     },
     "execution_count": 3,
     "metadata": {},
     "output_type": "execute_result"
    }
   ],
   "source": [
    "# Floyd-Warshall Algorithm implementation\n",
    "def floyd_warshall(graph):\n",
    "    # Initialize distances between all pairs as infinity\n",
    "    nodes = list(graph.keys())\n",
    "    distances = {node: {neighbor: math.inf for neighbor in nodes} for node in nodes}\n",
    "    \n",
    "    # Distance to itself is 0\n",
    "    for node in nodes:\n",
    "        distances[node][node] = 0\n",
    "    \n",
    "    # Set initial distances based on the graph edges\n",
    "    for u in graph:\n",
    "        for v, weight in graph[u]:\n",
    "            distances[u][v] = weight\n",
    "    \n",
    "    # Floyd-Warshall updates\n",
    "    for k in nodes:\n",
    "        for i in nodes:\n",
    "            for j in nodes:\n",
    "                if distances[i][j] > distances[i][k] + distances[k][j]:\n",
    "                    distances[i][j] = distances[i][k] + distances[k][j]\n",
    "    \n",
    "    return distances\n",
    "\n",
    "# Apply Floyd-Warshall Algorithm\n",
    "floyd_warshall_result = floyd_warshall(graph)\n",
    "floyd_warshall_result\n"
   ]
  }
 ],
 "metadata": {
  "kernelspec": {
   "display_name": "py39t",
   "language": "python",
   "name": "python3"
  },
  "language_info": {
   "codemirror_mode": {
    "name": "ipython",
    "version": 3
   },
   "file_extension": ".py",
   "mimetype": "text/x-python",
   "name": "python",
   "nbconvert_exporter": "python",
   "pygments_lexer": "ipython3",
   "version": "3.9.10"
  }
 },
 "nbformat": 4,
 "nbformat_minor": 2
}
