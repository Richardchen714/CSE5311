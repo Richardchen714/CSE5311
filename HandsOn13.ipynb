{
 "cells": [
  {
   "cell_type": "markdown",
   "metadata": {},
   "source": [
    "# Hands-On 13\n",
    "Implement the following algorithms:\n",
    "\n",
    "1. Topological sort\n",
    "\n",
    "2. Depth-First Search\n",
    "\n",
    "3. Kruskal algorithm\n",
    "\n",
    "Test them on the examples from the book and upload your code and tests to Github."
   ]
  },
  {
   "cell_type": "markdown",
   "metadata": {},
   "source": [
    "For topological sort, here is the graph used (Figure 22.7 a)\n",
    "\n",
    "![topo](topo.png)"
   ]
  },
  {
   "cell_type": "code",
   "execution_count": 2,
   "metadata": {},
   "outputs": [
    {
     "data": {
      "text/plain": [
       "['undershorts',\n",
       " 'shirt',\n",
       " 'socks',\n",
       " 'watch',\n",
       " 'pants',\n",
       " 'tie',\n",
       " 'belt',\n",
       " 'shoes',\n",
       " 'jacket']"
      ]
     },
     "execution_count": 2,
     "metadata": {},
     "output_type": "execute_result"
    }
   ],
   "source": [
    "from collections import defaultdict, deque\n",
    "\n",
    "# Define the graph based on the nodes and edges we identified\n",
    "graph = defaultdict(list)\n",
    "in_degree = defaultdict(int)\n",
    "\n",
    "# List of nodes\n",
    "nodes = [\"undershorts\", \"pants\", \"belt\", \"shirt\", \"tie\", \"jacket\", \"socks\", \"shoes\", \"watch\"]\n",
    "\n",
    "# List of directed edges\n",
    "edges = [\n",
    "    (\"undershorts\", \"pants\"),\n",
    "    (\"pants\", \"belt\"),\n",
    "    (\"pants\", \"shoes\"),\n",
    "    (\"shirt\", \"belt\"),\n",
    "    (\"shirt\", \"tie\"),\n",
    "    (\"tie\", \"jacket\"),\n",
    "    (\"belt\", \"jacket\"),\n",
    "    (\"socks\", \"shoes\")\n",
    "]\n",
    "\n",
    "# Initialize the graph and in-degree dictionary\n",
    "for node in nodes:\n",
    "    in_degree[node] = 0\n",
    "\n",
    "# Populate the graph and calculate in-degrees\n",
    "for u, v in edges:\n",
    "    graph[u].append(v)\n",
    "    in_degree[v] += 1\n",
    "\n",
    "# Function for topological sort using Kahn's Algorithm\n",
    "def topological_sort(graph, in_degree):\n",
    "    # Queue of nodes with in-degree of 0 (no dependencies)\n",
    "    queue = deque([node for node in nodes if in_degree[node] == 0])\n",
    "    topological_order = []\n",
    "\n",
    "    while queue:\n",
    "        node = queue.popleft()\n",
    "        topological_order.append(node)\n",
    "        \n",
    "        # Decrease the in-degree of each neighbor by 1\n",
    "        for neighbor in graph[node]:\n",
    "            in_degree[neighbor] -= 1\n",
    "            # If in-degree becomes 0, add to queue\n",
    "            if in_degree[neighbor] == 0:\n",
    "                queue.append(neighbor)\n",
    "    \n",
    "    # If the topological sort includes all nodes, return the order\n",
    "    if len(topological_order) == len(nodes):\n",
    "        return topological_order\n",
    "    else:\n",
    "        # If there's a cycle, topological sort isn't possible\n",
    "        return None\n",
    "\n",
    "# Run topological sort and display the result\n",
    "topological_order = topological_sort(graph, in_degree)\n",
    "topological_order\n"
   ]
  },
  {
   "cell_type": "markdown",
   "metadata": {},
   "source": [
    "For DFS, here is the graph used (Fig. 22.4)\n",
    "\n",
    "![dfs](DFS.png)"
   ]
  },
  {
   "cell_type": "code",
   "execution_count": 4,
   "metadata": {},
   "outputs": [
    {
     "data": {
      "text/plain": [
       "['u', 'v', 'y', 'x']"
      ]
     },
     "execution_count": 4,
     "metadata": {},
     "output_type": "execute_result"
    }
   ],
   "source": [
    "# Define the graph based on the nodes and edges identified\n",
    "graph_dfs = defaultdict(list)\n",
    "\n",
    "# List of directed edges\n",
    "edges_dfs = [\n",
    "    (\"u\", \"v\"),\n",
    "    (\"u\", \"x\"),\n",
    "    (\"v\", \"y\"),\n",
    "    (\"y\", \"x\"),\n",
    "    (\"x\", \"v\"),\n",
    "    (\"w\", \"z\"),\n",
    "    (\"w\", \"y\"),\n",
    "    (\"z\", \"z\")  # self-loop\n",
    "]\n",
    "\n",
    "# Populate the graph\n",
    "for u, v in edges_dfs:\n",
    "    graph_dfs[u].append(v)\n",
    "\n",
    "# DFS function\n",
    "def dfs(graph, start, visited=None):\n",
    "    if visited is None:\n",
    "        visited = set()\n",
    "    visited.add(start)\n",
    "    traversal_path = [start]\n",
    "    \n",
    "    for neighbor in graph[start]:\n",
    "        if neighbor not in visited:\n",
    "            traversal_path.extend(dfs(graph, neighbor, visited))\n",
    "    \n",
    "    return traversal_path\n",
    "\n",
    "# Test DFS starting from node 'u'\n",
    "dfs_path = dfs(graph_dfs, 'u')\n",
    "dfs_path\n"
   ]
  },
  {
   "cell_type": "markdown",
   "metadata": {},
   "source": [
    "For Kruskal's algorithm, here is the graph used (Fig 23.1)\n",
    "\n",
    "![krus](kruskal.png)"
   ]
  },
  {
   "cell_type": "code",
   "execution_count": 5,
   "metadata": {},
   "outputs": [
    {
     "data": {
      "text/plain": [
       "([('g', 'h', 1),\n",
       "  ('c', 'i', 2),\n",
       "  ('f', 'g', 2),\n",
       "  ('a', 'b', 4),\n",
       "  ('c', 'f', 4),\n",
       "  ('c', 'd', 7),\n",
       "  ('a', 'h', 8),\n",
       "  ('d', 'e', 9)],\n",
       " 37)"
      ]
     },
     "execution_count": 5,
     "metadata": {},
     "output_type": "execute_result"
    }
   ],
   "source": [
    "# Define the edges with weights\n",
    "edges_kruskal = [\n",
    "    (4, \"a\", \"b\"),\n",
    "    (8, \"a\", \"h\"),\n",
    "    (8, \"b\", \"c\"),\n",
    "    (11, \"b\", \"h\"),\n",
    "    (7, \"c\", \"d\"),\n",
    "    (4, \"c\", \"f\"),\n",
    "    (2, \"c\", \"i\"),\n",
    "    (6, \"c\", \"g\"),\n",
    "    (9, \"d\", \"e\"),\n",
    "    (14, \"d\", \"f\"),\n",
    "    (10, \"e\", \"f\"),\n",
    "    (2, \"f\", \"g\"),\n",
    "    (1, \"g\", \"h\"),\n",
    "    (7, \"h\", \"i\")\n",
    "]\n",
    "\n",
    "# Kruskal's Algorithm using Union-Find\n",
    "class UnionFind:\n",
    "    def __init__(self, nodes):\n",
    "        self.parent = {node: node for node in nodes}\n",
    "        self.rank = {node: 0 for node in nodes}\n",
    "\n",
    "    def find(self, node):\n",
    "        if self.parent[node] != node:\n",
    "            self.parent[node] = self.find(self.parent[node])  # Path compression\n",
    "        return self.parent[node]\n",
    "\n",
    "    def union(self, node1, node2):\n",
    "        root1 = self.find(node1)\n",
    "        root2 = self.find(node2)\n",
    "\n",
    "        # Union by rank\n",
    "        if root1 != root2:\n",
    "            if self.rank[root1] > self.rank[root2]:\n",
    "                self.parent[root2] = root1\n",
    "            elif self.rank[root1] < self.rank[root2]:\n",
    "                self.parent[root1] = root2\n",
    "            else:\n",
    "                self.parent[root2] = root1\n",
    "                self.rank[root1] += 1\n",
    "\n",
    "def kruskal(nodes, edges):\n",
    "    # Sort edges by weight\n",
    "    edges.sort()\n",
    "    uf = UnionFind(nodes)\n",
    "    mst = []  # Minimum Spanning Tree edges\n",
    "    total_weight = 0  # Total weight of the MST\n",
    "\n",
    "    for weight, u, v in edges:\n",
    "        # Check if adding this edge creates a cycle\n",
    "        if uf.find(u) != uf.find(v):\n",
    "            uf.union(u, v)\n",
    "            mst.append((u, v, weight))\n",
    "            total_weight += weight\n",
    "\n",
    "    return mst, total_weight\n",
    "\n",
    "# Define the set of nodes\n",
    "nodes_kruskal = {\"a\", \"b\", \"c\", \"d\", \"e\", \"f\", \"g\", \"h\", \"i\"}\n",
    "\n",
    "# Run Kruskal's algorithm\n",
    "mst_edges, mst_weight = kruskal(nodes_kruskal, edges_kruskal)\n",
    "mst_edges, mst_weight\n"
   ]
  }
 ],
 "metadata": {
  "kernelspec": {
   "display_name": "py39t",
   "language": "python",
   "name": "python3"
  },
  "language_info": {
   "codemirror_mode": {
    "name": "ipython",
    "version": 3
   },
   "file_extension": ".py",
   "mimetype": "text/x-python",
   "name": "python",
   "nbconvert_exporter": "python",
   "pygments_lexer": "ipython3",
   "version": "3.9.10"
  }
 },
 "nbformat": 4,
 "nbformat_minor": 2
}
